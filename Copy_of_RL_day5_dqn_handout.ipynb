{
  "nbformat": 4,
  "nbformat_minor": 0,
  "metadata": {
    "kernelspec": {
      "display_name": "Python 3",
      "language": "python",
      "name": "python3"
    },
    "language_info": {
      "codemirror_mode": {
        "name": "ipython",
        "version": 3
      },
      "file_extension": ".py",
      "mimetype": "text/x-python",
      "name": "python",
      "nbconvert_exporter": "python",
      "pygments_lexer": "ipython3",
      "version": "3.7.4"
    },
    "colab": {
      "name": "Copy_of_RL_day5_dqn_handout_(1).ipynb",
      "provenance": [],
      "collapsed_sections": []
    }
  },
  "cells": [
    {
      "cell_type": "markdown",
      "metadata": {
        "id": "frNhPUqfVvLI"
      },
      "source": [
        "# DQN on the CartPole problem"
      ]
    },
    {
      "cell_type": "markdown",
      "metadata": {
        "id": "-qvk5XaJVvLP"
      },
      "source": [
        "In this assignment you will implement the DQN algorithm to solve a classic control problem, the CartPole."
      ]
    },
    {
      "cell_type": "markdown",
      "metadata": {
        "id": "xgdD0YOUVvLP"
      },
      "source": [
        "### The CartPole problem"
      ]
    },
    {
      "cell_type": "markdown",
      "metadata": {
        "id": "PE39qqSYVvLP"
      },
      "source": [
        "As the image below shows, the goal of the agent is to balance a verticle rod on the top of the car. This position is unstable and that is the main reason for the difficulty.\n",
        "\n",
        "<img src=\"https://drive.google.com/uc?export=download&id=1wiFksyB3-mcirfdZEvrT2DPD7SBEjye2\" >\n",
        "\n",
        "The problem is solved if the average of the agent's scores is greater than 195 gathered in 100 episodes.\n",
        "The agent receives reward 1 in each timestep until the psoition of the rod is correct (not inclined too far away from the vertical position).\n",
        "The length of one episode is 200 time steps. Therefore the possible maximum score is 200.\n",
        "\n",
        "The state is low dimensional and cosists of:\n",
        "* position \n",
        "* velocity\n",
        "* angle \n",
        "* angular velocity\n",
        "\n",
        "Further details can be found on OpenAI gym's webpage: [Leader Board](https://github.com/openai/gym/wiki/CartPole-v0)"
      ]
    },
    {
      "cell_type": "code",
      "metadata": {
        "id": "k3HpjYhLVvLQ",
        "colab": {
          "base_uri": "https://localhost:8080/"
        },
        "outputId": "8760a320-bd33-4409-ca03-e45f7bd0b9ac"
      },
      "source": [
        "%matplotlib inline\n",
        "%tensorflow_version 1.x\n",
        "import matplotlib.pyplot as plt\n",
        "import gym \n",
        "from gym.wrappers import Monitor\n",
        "import numpy as np\n",
        "import random\n",
        "from enum import Enum\n",
        "from skimage import transform as trf\n",
        "from keras.models import Sequential # Keras: highlevel API above dnn libraries (tendorflow, cntr, theano)\n",
        "from keras.layers import Dense, Convolution2D, Flatten, Input\n",
        "from keras.optimizers import Adam, SGD, RMSprop"
      ],
      "execution_count": 1,
      "outputs": [
        {
          "output_type": "stream",
          "text": [
            "TensorFlow 1.x selected.\n"
          ],
          "name": "stdout"
        },
        {
          "output_type": "stream",
          "text": [
            "Using TensorFlow backend.\n"
          ],
          "name": "stderr"
        }
      ]
    },
    {
      "cell_type": "code",
      "metadata": {
        "id": "j9bQsPEgVvLR"
      },
      "source": [
        "class Optimizer(Enum): # Enum, Makes easier to try different optimizers\n",
        "    ADAM = 1\n",
        "    RMSPROP = 2\n",
        "    SGD = 3"
      ],
      "execution_count": 2,
      "outputs": []
    },
    {
      "cell_type": "code",
      "metadata": {
        "id": "JKl6wcjLVvLS"
      },
      "source": [
        "# The implementation of DQN.\n",
        "class Dqn:\n",
        "    \n",
        "    def __init__(self, params):         \n",
        "        self.env = None                       # The environment where the RL agent will learn.\n",
        "        self.buffer_size = params.buf_size    # The maximum size of the experience replay.\n",
        "        self.batch_size = params.batch        # Batch size during training.\n",
        "        self.epoch = params.epoch             # For one training cycle, the number epoch on a batch.\n",
        "        self.max_episode = params.max_ep      # The number of episodes for training.\n",
        "        self.eps0 = params.eps                # The starting value of epsilon in the epsilon-greedy policy.\n",
        "        self.gamma = params.gamma             # Discounting factor.\n",
        "        self.C = params.C                     # Frequency of synchronizing the frozen network.\n",
        "        self.train_freq = params.train_freq   # Update frequency for the not frozen network.\n",
        "        self.eval_freq = params.eval_freq     # Evaluation frequency.\n",
        "        self.net = params.net                 # The description of the network. List of tuples. A tuple: (number of units, activation)\n",
        "        self.lr = params.lr                   # learning rate\n",
        "        self.opt = params.opt                 # Optimizer.\n",
        "\n",
        "        self.q_cont, self.q_frzn = None, None # two networks for training: continuously updated and frozen\n",
        "\n",
        "        self.buffer = []  # experience replay\n",
        "        \n",
        "        self.env = gym.make('CartPole-v0')\n",
        "        self.env.reset()\n",
        "        self.q_cont, self.q_frzn = self._init_models()\n",
        "    \n",
        "    # ------------------------------------------------------\n",
        "    # functions for inicialization\n",
        "    \n",
        "    def _init_optimizer(self):\n",
        "\n",
        "        optz = None\n",
        "        if self.opt == Optimizer.ADAM:\n",
        "            optz = Adam(self.lr)\n",
        "        elif self.opt == Optimizer.SGD:\n",
        "            optz = SGD(self.lr)\n",
        "        elif self.opt == Optimizer.RMSPROP:\n",
        "            optz = RMSprop(self.lr)\n",
        "\n",
        "        return optz\n",
        "\n",
        "    # The network builds up from Dense layers (similar to the fully connected)\n",
        "    def _init_models(self):\n",
        "        \n",
        "        def build(strc):\n",
        "            # strc - list of tuples\n",
        "            # each tuple contains: number of nodes in the dense layer, activation function name (e.g.: 'relu')\n",
        "            # ----- implement this -----\n",
        "            q = Sequential()  # ----- create a sequential model -----\n",
        "            # ----- add a dense layer with input_shape 4 (4 frames will be stacked) -----\n",
        "            # use the strc for accessing the required parameters\n",
        "            q.add(Dense(units = strc[0][0], activation=strc[0][1], input_shape=(4,)))\n",
        "\n",
        "            for i in range(1, len(strc)):\n",
        "                # ----- add the remaining dense layers to the model\n",
        "                q.add(Dense(strc[i][0], activation=strc[i][1]))\n",
        "\n",
        "            optz = self._init_optimizer()\n",
        "            \n",
        "            # compile the model with an appropriate loss function\n",
        "            q.compile(loss='mse', optimizer=optz, metrics = ['accuracy'])\n",
        "            \n",
        "            return q\n",
        "\n",
        "        q_cont = build(self.net)  # continuously updated network (Q-function)\n",
        "        q_frzn = build(self.net)  # frozen network\n",
        "\n",
        "        q_cont.set_weights(q_frzn.get_weights())  # synchronization\n",
        "\n",
        "        return q_cont, q_frzn\n",
        "\n",
        "    def _init_buffer(self, number):\n",
        "        # gathers 'number' pieces of experiences randomly\n",
        "        # ----- study and undertand this piece of code carefully -----\n",
        "        exps = []\n",
        "        obs, rw, done, _ = self.env.step(0)\n",
        "        for _ in range(number):\n",
        "\n",
        "            if done:\n",
        "                obs = self.env.reset()\n",
        "\n",
        "            action = self.env.action_space.sample()  # sampling random actions from the environment\n",
        "            obs_next, rw, done, _ = self.env.step(action)  # taking the step and observe the results\n",
        "            exps.append((obs, rw, action, done, obs_next))  # we append a new experience\n",
        "            obs = obs_next\n",
        "\n",
        "        self.append(exps)  # you will implement this function\n",
        "    \n",
        "    def close(self):\n",
        "        self.env.close()\n",
        "\n",
        "    def train_function(self):\n",
        "        \n",
        "        # initializing experience replay with random experiences\n",
        "        self._init_buffer(self.batch_size)\n",
        "\n",
        "        print(\"Initialization was finished.\")\n",
        "        print(\"Training was started.\")\n",
        "\n",
        "        ep_id = 1\n",
        "        cntr = 0\n",
        "        eval_permitted = True\n",
        "        rtn = 0\n",
        "        exps = []\n",
        "        \n",
        "        ep_ids = []\n",
        "        returns = []\n",
        "\n",
        "        eps = self.eps0\n",
        "        self.env.reset()\n",
        "        obs, _, done, _ = self.env.step(0)\n",
        "\n",
        "        while ep_id < self.max_episode:\n",
        "\n",
        "            cntr += 1\n",
        "\n",
        "            if done:\n",
        "                if ep_id % 10 == 0:\n",
        "                    print('Episode Id: ' + str(ep_id) + ' Return during training: ' + str(rtn))\n",
        "                rtn = 0\n",
        "                ep_id += 1\n",
        "                eval_permitted = True\n",
        "                obs = self.env.reset() # when an episode ends (done = True) the environment is reseted\n",
        "            \n",
        "            action = self.select_action_epsilon(obs, eps) # ---- select the next action with epsilon greedy ----- \n",
        "\n",
        "            obs_next, rw, done, _ = self.env.step(action)  # ----- take a new step with the environment -----\n",
        "            rtn += rw\n",
        "            \n",
        "            if done:\n",
        "                if rtn < 180:\n",
        "                    rw = -1\n",
        "                    obs_next *= 0.0\n",
        "                    obs *= 0.0\n",
        "                elif rtn >= 180:\n",
        "                    rw = 100\n",
        "\n",
        "            exps.append((obs, rw, action, done, obs_next))\n",
        "            obs = obs_next\n",
        "\n",
        "            if cntr % 128 == 0:\n",
        "                self.append(exps)\n",
        "                exps.clear()\n",
        "            \n",
        "            # training\n",
        "            if  cntr % self.train_freq == 0:\n",
        "                # ----- sample experiences from the replay then train q_cont with them\n",
        "                x, y = self.sample(self.batch_size)\n",
        "                self.q_cont.fit(x, y, batch_size=self.batch_size, epochs=self.epoch, verbose=0)\n",
        "\n",
        "\n",
        "            # synchronizing the frozen network\n",
        "            if cntr % self.C == 0:\n",
        "                self.q_frzn.set_weights(self.q_cont.get_weights())\n",
        "                \n",
        "            # evaluating at the current stage of learning\n",
        "            if ep_id % self.eval_freq == 0 and eval_permitted:\n",
        "                r = self.evaluation()\n",
        "                ep_ids.append(ep_id)\n",
        "                returns.append(r)\n",
        "                print('EValuation at episode: ' + str(ep_id) + ' -> ' +  str(r))\n",
        "                eval_permitted = False\n",
        "                if r >= 185:\n",
        "                    break\n",
        "            \n",
        "            # Decrasing the epsilon value for epsilon-greedy. Exploration -> exploitation\n",
        "            eps = max(eps - 0.001, 0.01)\n",
        "\n",
        "        print(\"Training was finished.\")\n",
        "        return ep_ids, returns\n",
        "\n",
        "    def evaluation(self, video = False):\n",
        "        \n",
        "        orig_env = self.env\n",
        "        if video:\n",
        "            self.env = Monitor(orig_env, 'videos/cartpole', force=True)\n",
        "\n",
        "        obs = self.env.reset()\n",
        "        done = False\n",
        "        rtn = 0\n",
        "        ep_id = 0\n",
        "        rtns = []\n",
        "\n",
        "        while ep_id < 50:\n",
        "\n",
        "            if done:\n",
        "                rtns.append(rtn)\n",
        "                rtn = 0\n",
        "                ep_id += 1\n",
        "                obs = self.env.reset()\n",
        "\n",
        "            action = self.select_action_epsilon(obs, 0.01)\n",
        "            obs, rw, done, _ = self.env.step(action)\n",
        "            rtn += rw\n",
        "\n",
        "        self.env = orig_env\n",
        "        return np.mean(rtns)\n",
        "\n",
        "    # ------------------------------------------------------\n",
        "    # Functions for handling the experience replay\n",
        "\n",
        "    def clear_buffer(self):\n",
        "        self.buffer.clear()\n",
        "\n",
        "    # The new experiences are added at the end of the buffer.\n",
        "    # The too old experiences are deleted.\n",
        "    def append(self, experiences):\n",
        "        # experiences - list of experiences\n",
        "        # ----- implement this -----\n",
        "        \n",
        "        # ----- check if appending the new set of experiences to the buffer has enough space -----\n",
        "        if self.buffer_size - len(self.buffer) < len(experiences) :\n",
        "            # ----- if not, delete as many experiences as required -----\n",
        "            del self.buffer[:len(experiences)]\n",
        "        self.buffer += experiences  # finally we append the new experiences to the buffer\n",
        "\n",
        "    def sample(self, number):\n",
        "       \n",
        "        exps = random.sample(self.buffer, number)    # experiences list\n",
        "        obs = np.stack([x[0] for x in exps], axis=0) # numpy array is used by keras, for creating a batch observations should be stacked\n",
        "        rws = np.stack([x[1] for x in exps], axis=0) # ----- do similar stacking for the rewards -----\n",
        "        acts = np.stack([x[2] for x in exps], axis=0) # ----- implement this too -----\n",
        "        dones = np.stack([x[3] for x in exps], axis=0) # ----- implement this too -----\n",
        "        next_obs = np.stack([x[4] for x in exps], axis=0) # ----- implement this too -----\n",
        "        \n",
        "        #q_vals = self.q_cont.predict(obs) # ----- predict (forward execute) with q_cont on obs -----   # q_vals size should be: (batch_size, 2)\n",
        "        #fzn_q_vals = self.q_frzn.predict(next_obs) # ----- predict with q_frzn on next_obs -----\n",
        "        q_vals = self.q_cont.predict(obs, batch_size=number)  # (batch_size, 2)\n",
        "        fzn_q_vals = self.q_frzn.predict(next_obs, batch_size=number)\n",
        "        # The action function is represented by a network.\n",
        "        # The input of this network is the state, \n",
        "        # the output is the set of action-values\n",
        "        # corresponding to the actions.\n",
        "        # So the number of outputs is equal with the nunmber of actions.\n",
        "        # In training we sample one transition at a time, therefore we have loss\n",
        "        # for only one output (action) at a time.\n",
        "        # But for training, we have to provide information for all of the outputs.\n",
        "        # How can we solve this?\n",
        "        \n",
        "        sub_values = rws + (1 - dones) * self.gamma * np.max(fzn_q_vals, axis=1) # ----- calculate this according to the one-step return for Q-learning -----\n",
        "        q_vals[list(range(number)), acts] = sub_values  # this will be the target during training\n",
        "\n",
        "        x = obs.astype(dtype=np.float32)\n",
        "        y = q_vals.astype(dtype=np.float32)\n",
        "\n",
        "        return x, y\n",
        "\n",
        "    # ------------------------------------------------------\n",
        "    # Choosing an action\n",
        "\n",
        "    # epsilon-greedy\n",
        "    def select_action_epsilon(self, state, eps):  # state shape: (4) nunmpy array\n",
        "        s = np.expand_dims(state, axis=0)\n",
        "        max_idx = np.argmax(self.q_cont.predict(s, batch_size=1))\n",
        "        if np.random.random() < 1 - eps:\n",
        "            return max_idx\n",
        "        return (max_idx + 1) % 2 # now we have only two actions\n",
        "\n",
        "    # no epsilon-greedy\n",
        "    def select_action(self, state):\n",
        "        s = np.expand_dims(state, axis=0)\n",
        "        return np.argmax(self.q_cont.predict(s, batch_size=1))"
      ],
      "execution_count": 3,
      "outputs": []
    },
    {
      "cell_type": "code",
      "metadata": {
        "id": "DwB0aCKWVvLW"
      },
      "source": [
        "class Parameters:\n",
        "\n",
        "    def __init__(self):\n",
        "                                 # Default values\n",
        "        self.buf_size = 5000     # 5000\n",
        "        self.batch = 256         # 256\n",
        "        self.epoch = 5           # 5\n",
        "        self.max_ep = 500        # 500\n",
        "        self.eps = 0.5           # 0.5\n",
        "        self.gamma = 0.9         # 0.9\n",
        "        self.C = 100             # 100\n",
        "        self.train_freq = 1      # 1\n",
        "        self.eval_freq = 10      # 10\n",
        "        self.net = [(128, 'relu'), (128, 'relu'), (2, 'relu')] # [(128, 'relu'), (128, 'relu'), (2, 'relu')]\n",
        "        self.lr = 0.01         # 0.0001\n",
        "        self.opt = Optimizer.ADAM # Optimizer.ADAM"
      ],
      "execution_count": 4,
      "outputs": []
    },
    {
      "cell_type": "code",
      "metadata": {
        "id": "b_RIg9ueVvLZ",
        "colab": {
          "base_uri": "https://localhost:8080/",
          "height": 469
        },
        "outputId": "caa04d0e-710d-4445-c5b5-0909b37fbba4"
      },
      "source": [
        "# Running the training and evaluation\r\n",
        "pms = Parameters()\r\n",
        "dqn = Dqn(pms)\r\n",
        "ep_ids, returns = dqn.train_function()\r\n",
        "plt.plot(ep_ids, returns)\r\n",
        "dqn.evaluation(video=False)\r\n",
        "dqn.close()"
      ],
      "execution_count": 116,
      "outputs": [
        {
          "output_type": "stream",
          "text": [
            "Initialization was finished.\n",
            "Training was started.\n",
            "EValuation at episode: 10 -> 25.8\n",
            "Episode Id: 10 Return during training: 42.0\n",
            "EValuation at episode: 20 -> 38.28\n",
            "Episode Id: 20 Return during training: 28.0\n",
            "EValuation at episode: 30 -> 52.3\n",
            "Episode Id: 30 Return during training: 86.0\n",
            "EValuation at episode: 40 -> 82.16\n",
            "Episode Id: 40 Return during training: 132.0\n",
            "EValuation at episode: 50 -> 198.62\n",
            "Training was finished.\n"
          ],
          "name": "stdout"
        },
        {
          "output_type": "display_data",
          "data": {
            "image/png": "[encoded data removed]",
            "text/plain": [
              "<Figure size 432x288 with 1 Axes>"
            ]
          },
          "metadata": {
            "tags": [],
            "needs_background": "light"
          }
        }
      ]
    },
    {
      "cell_type": "markdown",
      "metadata": {
        "id": "EzP7dSRFVvLZ"
      },
      "source": [
        "### Question:\n",
        "\n",
        "* Does it converge all the time?\n",
        "* What happens if you change the default parameters?"
      ]
    },
    {
      "cell_type": "markdown",
      "metadata": {
        "id": "UbHz6TGvNeh2"
      },
      "source": [
        "Yes it converges all the time but the number of episodes it takes to converge is inconsistant, for example:\r\n"
      ]
    },
    {
      "cell_type": "code",
      "metadata": {
        "colab": {
          "base_uri": "https://localhost:8080/",
          "height": 1000
        },
        "id": "2QOEjOgCGsIO",
        "outputId": "665d6941-c586-4f21-d051-9d4687916ade"
      },
      "source": [
        "# Running the training and evaluation\r\n",
        "pms = Parameters()\r\n",
        "dqn = Dqn(pms)\r\n",
        "ep_ids, returns = dqn.train_function()\r\n",
        "plt.plot(ep_ids, returns)\r\n",
        "dqn.evaluation(video=False)\r\n",
        "dqn.close()"
      ],
      "execution_count": 119,
      "outputs": [
        {
          "output_type": "stream",
          "text": [
            "Initialization was finished.\n",
            "Training was started.\n",
            "EValuation at episode: 10 -> 12.64\n",
            "Episode Id: 10 Return during training: 13.0\n",
            "EValuation at episode: 20 -> 25.28\n",
            "Episode Id: 20 Return during training: 20.0\n",
            "EValuation at episode: 30 -> 53.06\n",
            "Episode Id: 30 Return during training: 39.0\n",
            "EValuation at episode: 40 -> 67.14\n",
            "Episode Id: 40 Return during training: 66.0\n",
            "EValuation at episode: 50 -> 99.9\n",
            "Episode Id: 50 Return during training: 200.0\n",
            "EValuation at episode: 60 -> 113.92\n",
            "Episode Id: 60 Return during training: 200.0\n",
            "EValuation at episode: 70 -> 107.7\n",
            "Episode Id: 70 Return during training: 123.0\n",
            "EValuation at episode: 80 -> 54.26\n",
            "Episode Id: 80 Return during training: 32.0\n",
            "EValuation at episode: 90 -> 99.26\n",
            "Episode Id: 90 Return during training: 40.0\n",
            "EValuation at episode: 100 -> 93.74\n",
            "Episode Id: 100 Return during training: 119.0\n",
            "EValuation at episode: 110 -> 68.92\n",
            "Episode Id: 110 Return during training: 58.0\n",
            "EValuation at episode: 120 -> 45.68\n",
            "Episode Id: 120 Return during training: 55.0\n",
            "EValuation at episode: 130 -> 38.62\n",
            "Episode Id: 130 Return during training: 30.0\n",
            "EValuation at episode: 140 -> 145.92\n",
            "Episode Id: 140 Return during training: 96.0\n",
            "EValuation at episode: 150 -> 83.72\n",
            "Episode Id: 150 Return during training: 90.0\n",
            "EValuation at episode: 160 -> 98.18\n",
            "Episode Id: 160 Return during training: 24.0\n",
            "EValuation at episode: 170 -> 144.3\n",
            "Episode Id: 170 Return during training: 161.0\n",
            "EValuation at episode: 180 -> 104.64\n",
            "Episode Id: 180 Return during training: 120.0\n",
            "EValuation at episode: 190 -> 68.34\n",
            "Episode Id: 190 Return during training: 71.0\n",
            "EValuation at episode: 200 -> 49.54\n",
            "Episode Id: 200 Return during training: 107.0\n",
            "EValuation at episode: 210 -> 73.18\n",
            "Episode Id: 210 Return during training: 58.0\n",
            "EValuation at episode: 220 -> 56.54\n",
            "Episode Id: 220 Return during training: 193.0\n",
            "EValuation at episode: 230 -> 58.48\n",
            "Episode Id: 230 Return during training: 11.0\n",
            "EValuation at episode: 240 -> 30.04\n",
            "Episode Id: 240 Return during training: 33.0\n",
            "EValuation at episode: 250 -> 132.92\n",
            "Episode Id: 250 Return during training: 200.0\n",
            "EValuation at episode: 260 -> 150.94\n",
            "Episode Id: 260 Return during training: 200.0\n",
            "EValuation at episode: 270 -> 55.22\n",
            "Episode Id: 270 Return during training: 59.0\n",
            "EValuation at episode: 280 -> 88.54\n",
            "Episode Id: 280 Return during training: 25.0\n",
            "EValuation at episode: 290 -> 12.66\n",
            "Episode Id: 290 Return during training: 12.0\n",
            "EValuation at episode: 300 -> 128.46\n",
            "Episode Id: 300 Return during training: 47.0\n",
            "EValuation at episode: 310 -> 19.12\n",
            "Episode Id: 310 Return during training: 20.0\n",
            "EValuation at episode: 320 -> 46.86\n",
            "Episode Id: 320 Return during training: 106.0\n",
            "EValuation at episode: 330 -> 185.98\n",
            "Training was finished.\n"
          ],
          "name": "stdout"
        },
        {
          "output_type": "display_data",
          "data": {
            "image/png": "[encoded data removed]",
            "text/plain": [
              "<Figure size 432x288 with 1 Axes>"
            ]
          },
          "metadata": {
            "tags": [],
            "needs_background": "light"
          }
        }
      ]
    },
    {
      "cell_type": "markdown",
      "metadata": {
        "id": "3q8AVtkvR0w0"
      },
      "source": [
        "# Checking Multiple hyperparameters"
      ]
    },
    {
      "cell_type": "code",
      "metadata": {
        "colab": {
          "base_uri": "https://localhost:8080/",
          "height": 571
        },
        "id": "_EuTzmH-PKbQ",
        "outputId": "aaa059fc-6684-4bdf-8adb-80fdb9279639"
      },
      "source": [
        "# Running the training and evaluation\r\n",
        "pms = Parameters()\r\n",
        "dqn = Dqn(pms)\r\n",
        "ep_ids, returns = dqn.train_function()\r\n",
        "plt.plot(ep_ids, returns)\r\n",
        "dqn.evaluation(video=False)\r\n",
        "dqn.close()"
      ],
      "execution_count": 8,
      "outputs": [
        {
          "output_type": "stream",
          "text": [
            "Initialization was finished.\n",
            "Training was started.\n",
            "EValuation at episode: 10 -> 10.78\n",
            "Episode Id: 10 Return during training: 12.0\n",
            "EValuation at episode: 20 -> 14.92\n",
            "Episode Id: 20 Return during training: 34.0\n",
            "EValuation at episode: 30 -> 84.64\n",
            "Episode Id: 30 Return during training: 79.0\n",
            "EValuation at episode: 40 -> 100.64\n",
            "Episode Id: 40 Return during training: 200.0\n",
            "EValuation at episode: 50 -> 134.86\n",
            "Episode Id: 50 Return during training: 100.0\n",
            "EValuation at episode: 60 -> 56.4\n",
            "Episode Id: 60 Return during training: 121.0\n",
            "EValuation at episode: 70 -> 170.04\n",
            "Episode Id: 70 Return during training: 200.0\n",
            "EValuation at episode: 80 -> 188.44\n",
            "Training was finished.\n"
          ],
          "name": "stdout"
        },
        {
          "output_type": "display_data",
          "data": {
            "image/png": "[encoded data removed]",
            "text/plain": [
              "<Figure size 432x288 with 1 Axes>"
            ]
          },
          "metadata": {
            "tags": [],
            "needs_background": "light"
          }
        }
      ]
    },
    {
      "cell_type": "code",
      "metadata": {
        "id": "LOdRuKngXshm"
      },
      "source": [
        ""
      ],
      "execution_count": 129,
      "outputs": []
    },
    {
      "cell_type": "code",
      "metadata": {
        "id": "jZocwjK7l8HI"
      },
      "source": [
        ""
      ],
      "execution_count": null,
      "outputs": []
    }
  ]
}